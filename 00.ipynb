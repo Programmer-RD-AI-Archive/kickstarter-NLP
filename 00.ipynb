{
 "cells": [
  {
   "cell_type": "code",
   "execution_count": 1,
   "id": "92fb80d4-5f49-461a-a628-7a777bf1f0f3",
   "metadata": {},
   "outputs": [],
   "source": [
    "import nltk\n",
    "from nltk.stem.porter import *\n",
    "from torch.nn import *\n",
    "from torch.optim import *\n",
    "import numpy as np\n",
    "import pandas as pd\n",
    "import torch,torchvision\n",
    "import random\n",
    "from tqdm import *\n",
    "from torch.utils.data import Dataset,DataLoader\n",
    "stemmer = PorterStemmer()"
   ]
  },
  {
   "cell_type": "code",
   "execution_count": 2,
   "id": "f973d6c4-d3de-49df-86b1-c7af8d098ed3",
   "metadata": {},
   "outputs": [],
   "source": [
    "def tokenize(sentence):\n",
    "    return nltk.word_tokenize(sentence)"
   ]
  },
  {
   "cell_type": "code",
   "execution_count": 3,
   "id": "212130e7-401e-4b57-a340-6801aac9af91",
   "metadata": {},
   "outputs": [
    {
     "data": {
      "text/plain": [
       "['$', 'test']"
      ]
     },
     "execution_count": 3,
     "metadata": {},
     "output_type": "execute_result"
    }
   ],
   "source": [
    "tokenize('$test')"
   ]
  },
  {
   "cell_type": "code",
   "execution_count": 4,
   "id": "e98bf2be-68d8-4d1a-b26d-6106cb3cb7a1",
   "metadata": {},
   "outputs": [],
   "source": [
    "def stem(word):\n",
    "    return stemmer.stem(word.lower())"
   ]
  },
  {
   "cell_type": "code",
   "execution_count": 5,
   "id": "3ef4c2ce-e8ad-4c40-b6b5-651297a93a38",
   "metadata": {},
   "outputs": [
    {
     "data": {
      "text/plain": [
       "'organ'"
      ]
     },
     "execution_count": 5,
     "metadata": {},
     "output_type": "execute_result"
    }
   ],
   "source": [
    "stem('organic')"
   ]
  },
  {
   "cell_type": "code",
   "execution_count": 6,
   "id": "e20dfac5-4cc0-4aa6-8b30-ce55742144da",
   "metadata": {},
   "outputs": [],
   "source": [
    "def bag_of_words(tokenized_words,all_words):\n",
    "    tokenized_words = [stem(w) for w in tokenized_words]\n",
    "    bag = np.zeros(len(all_words),dtype=np.float32)\n",
    "    for idx,w in enumerate(all_words):\n",
    "        if w in tokenized_words:\n",
    "            bag[idx] = 1.0\n",
    "    return bag"
   ]
  },
  {
   "cell_type": "code",
   "execution_count": 7,
   "id": "0b91b13e-abfa-41f2-bd6c-9ba7c4416efe",
   "metadata": {},
   "outputs": [
    {
     "data": {
      "text/plain": [
       "array([1., 0., 0., 1., 0., 0., 0.], dtype=float32)"
      ]
     },
     "execution_count": 7,
     "metadata": {},
     "output_type": "execute_result"
    }
   ],
   "source": [
    "bag_of_words(['hi','how','are','you','?','1000','$'],['$','money','1000 dollors','you','gregre','getgwe','fgrfg'])"
   ]
  },
  {
   "cell_type": "code",
   "execution_count": 8,
   "id": "d94f0cee-cb36-4ae8-a162-7ee413af18ea",
   "metadata": {},
   "outputs": [],
   "source": [
    "data = pd.read_csv('./data.csv').dropna()[:12500]"
   ]
  },
  {
   "cell_type": "code",
   "execution_count": 9,
   "id": "3fbcdfa7-ad7a-4196-88cf-a0dbf069dcd4",
   "metadata": {},
   "outputs": [
    {
     "data": {
      "text/html": [
       "<div>\n",
       "<style scoped>\n",
       "    .dataframe tbody tr th:only-of-type {\n",
       "        vertical-align: middle;\n",
       "    }\n",
       "\n",
       "    .dataframe tbody tr th {\n",
       "        vertical-align: top;\n",
       "    }\n",
       "\n",
       "    .dataframe thead th {\n",
       "        text-align: right;\n",
       "    }\n",
       "</style>\n",
       "<table border=\"1\" class=\"dataframe\">\n",
       "  <thead>\n",
       "    <tr style=\"text-align: right;\">\n",
       "      <th></th>\n",
       "      <th>Unnamed: 0</th>\n",
       "      <th>blurb</th>\n",
       "      <th>state</th>\n",
       "    </tr>\n",
       "  </thead>\n",
       "  <tbody>\n",
       "    <tr>\n",
       "      <th>0</th>\n",
       "      <td>1</td>\n",
       "      <td>Using their own character, users go on educati...</td>\n",
       "      <td>failed</td>\n",
       "    </tr>\n",
       "    <tr>\n",
       "      <th>1</th>\n",
       "      <td>2</td>\n",
       "      <td>MicroFly is a quadcopter packed with WiFi, 6 s...</td>\n",
       "      <td>successful</td>\n",
       "    </tr>\n",
       "    <tr>\n",
       "      <th>2</th>\n",
       "      <td>3</td>\n",
       "      <td>A small indie press, run as a collective for a...</td>\n",
       "      <td>failed</td>\n",
       "    </tr>\n",
       "    <tr>\n",
       "      <th>3</th>\n",
       "      <td>4</td>\n",
       "      <td>Zylor is a new baby cosplayer! Back this kicks...</td>\n",
       "      <td>failed</td>\n",
       "    </tr>\n",
       "    <tr>\n",
       "      <th>4</th>\n",
       "      <td>5</td>\n",
       "      <td>Hatoful Boyfriend meet Skeletons! A comedy Dat...</td>\n",
       "      <td>failed</td>\n",
       "    </tr>\n",
       "    <tr>\n",
       "      <th>...</th>\n",
       "      <td>...</td>\n",
       "      <td>...</td>\n",
       "      <td>...</td>\n",
       "    </tr>\n",
       "    <tr>\n",
       "      <th>12495</th>\n",
       "      <td>12496</td>\n",
       "      <td>A film about a place in Afghanistan where peop...</td>\n",
       "      <td>successful</td>\n",
       "    </tr>\n",
       "    <tr>\n",
       "      <th>12496</th>\n",
       "      <td>12497</td>\n",
       "      <td>\"The Great Controversy Ended\" Movie/Doc based ...</td>\n",
       "      <td>successful</td>\n",
       "    </tr>\n",
       "    <tr>\n",
       "      <th>12497</th>\n",
       "      <td>12498</td>\n",
       "      <td>A movie about filmmaker Alex Sichel and her fi...</td>\n",
       "      <td>successful</td>\n",
       "    </tr>\n",
       "    <tr>\n",
       "      <th>12498</th>\n",
       "      <td>12499</td>\n",
       "      <td>Documentary and multimedia project about women...</td>\n",
       "      <td>successful</td>\n",
       "    </tr>\n",
       "    <tr>\n",
       "      <th>12499</th>\n",
       "      <td>12500</td>\n",
       "      <td>Men in South Central Los Angeles find hope thr...</td>\n",
       "      <td>successful</td>\n",
       "    </tr>\n",
       "  </tbody>\n",
       "</table>\n",
       "<p>12500 rows × 3 columns</p>\n",
       "</div>"
      ],
      "text/plain": [
       "       Unnamed: 0                                              blurb  \\\n",
       "0               1  Using their own character, users go on educati...   \n",
       "1               2  MicroFly is a quadcopter packed with WiFi, 6 s...   \n",
       "2               3  A small indie press, run as a collective for a...   \n",
       "3               4  Zylor is a new baby cosplayer! Back this kicks...   \n",
       "4               5  Hatoful Boyfriend meet Skeletons! A comedy Dat...   \n",
       "...           ...                                                ...   \n",
       "12495       12496  A film about a place in Afghanistan where peop...   \n",
       "12496       12497  \"The Great Controversy Ended\" Movie/Doc based ...   \n",
       "12497       12498  A movie about filmmaker Alex Sichel and her fi...   \n",
       "12498       12499  Documentary and multimedia project about women...   \n",
       "12499       12500  Men in South Central Los Angeles find hope thr...   \n",
       "\n",
       "            state  \n",
       "0          failed  \n",
       "1      successful  \n",
       "2          failed  \n",
       "3          failed  \n",
       "4          failed  \n",
       "...           ...  \n",
       "12495  successful  \n",
       "12496  successful  \n",
       "12497  successful  \n",
       "12498  successful  \n",
       "12499  successful  \n",
       "\n",
       "[12500 rows x 3 columns]"
      ]
     },
     "execution_count": 9,
     "metadata": {},
     "output_type": "execute_result"
    }
   ],
   "source": [
    "data"
   ]
  },
  {
   "cell_type": "code",
   "execution_count": 10,
   "id": "92e6521c-165a-4531-a18a-61c7b6e47935",
   "metadata": {},
   "outputs": [],
   "source": [
    "X = data['blurb']"
   ]
  },
  {
   "cell_type": "code",
   "execution_count": 11,
   "id": "3fc5d08d-ec66-4a11-85ca-deeb4a7e5266",
   "metadata": {},
   "outputs": [],
   "source": [
    "y = data['state']"
   ]
  },
  {
   "cell_type": "code",
   "execution_count": 12,
   "id": "cf610c36-9eca-4021-9184-40ba6d3228b1",
   "metadata": {},
   "outputs": [],
   "source": [
    "all_words = []\n",
    "all_data = []\n",
    "tags = []"
   ]
  },
  {
   "cell_type": "code",
   "execution_count": 13,
   "id": "43b1c4ed-932b-49a8-92fa-364e46c2b4d5",
   "metadata": {},
   "outputs": [
    {
     "name": "stderr",
     "output_type": "stream",
     "text": [
      "12500it [00:04, 2649.96it/s]\n"
     ]
    }
   ],
   "source": [
    "for X_batch,y_batch in tqdm(zip(X,y)):\n",
    "    X_batch = tokenize(X_batch)\n",
    "    new_X = []\n",
    "    for X_batch_in_X_batch in X_batch:\n",
    "        new_X.append(stem(X_batch_in_X_batch))\n",
    "    all_words.extend(new_X)\n",
    "    all_data.append((new_X,y_batch))\n",
    "    tags.append(y_batch)"
   ]
  },
  {
   "cell_type": "code",
   "execution_count": 14,
   "id": "62349593-ec5f-468a-a5a2-08320dbaf8c6",
   "metadata": {},
   "outputs": [],
   "source": [
    "np.random.shuffle(all_words)\n",
    "np.random.shuffle(all_data)\n",
    "np.random.shuffle(tags)"
   ]
  },
  {
   "cell_type": "code",
   "execution_count": 15,
   "id": "611a359f-cae6-4048-a689-31814c1e6388",
   "metadata": {},
   "outputs": [],
   "source": [
    "all_words = sorted(set(all_words))"
   ]
  },
  {
   "cell_type": "code",
   "execution_count": 16,
   "id": "1cf3d6d7-d4eb-4e77-964e-960f6d4e3a88",
   "metadata": {},
   "outputs": [],
   "source": [
    "tags = sorted(set(tags))"
   ]
  },
  {
   "cell_type": "code",
   "execution_count": 17,
   "id": "c3a26fc1-d840-4a4c-918c-7c44bf16959d",
   "metadata": {},
   "outputs": [
    {
     "data": {
      "text/plain": [
       "['failed', 'successful']"
      ]
     },
     "execution_count": 17,
     "metadata": {},
     "output_type": "execute_result"
    }
   ],
   "source": [
    "tags"
   ]
  },
  {
   "cell_type": "code",
   "execution_count": 18,
   "id": "9d5b324b-5961-4e4f-8e23-368f17fcaa47",
   "metadata": {},
   "outputs": [],
   "source": [
    "np.random.shuffle(all_words)\n",
    "np.random.shuffle(all_data)\n",
    "np.random.shuffle(tags)"
   ]
  },
  {
   "cell_type": "code",
   "execution_count": 19,
   "id": "71018b1c-03b7-42ca-9a31-c557ca12ce1a",
   "metadata": {},
   "outputs": [
    {
     "data": {
      "text/plain": [
       "['successful', 'failed']"
      ]
     },
     "execution_count": 19,
     "metadata": {},
     "output_type": "execute_result"
    }
   ],
   "source": [
    "tags"
   ]
  },
  {
   "cell_type": "code",
   "execution_count": 20,
   "id": "3d4ff55e-804d-4186-8739-c3cadc12faf5",
   "metadata": {},
   "outputs": [],
   "source": [
    "X = []\n",
    "y = []"
   ]
  },
  {
   "cell_type": "code",
   "execution_count": null,
   "id": "3a7c83ae-4b3f-4fc3-b8a5-ea6c034ab996",
   "metadata": {},
   "outputs": [
    {
     "name": "stderr",
     "output_type": "stream",
     "text": [
      " 96%|██████████████████████████████████▌ | 12007/12500 [00:43<00:01, 264.91it/s]"
     ]
    }
   ],
   "source": [
    "for sentence,tag in tqdm(all_data):\n",
    "    X.append(bag_of_words(sentence,all_words))\n",
    "    y.append(tags.index(tag))"
   ]
  },
  {
   "cell_type": "code",
   "execution_count": null,
   "id": "a436cf01-af3f-4d78-892e-6516cd46cd53",
   "metadata": {},
   "outputs": [],
   "source": [
    "from sklearn.model_selection import *"
   ]
  },
  {
   "cell_type": "code",
   "execution_count": null,
   "id": "bca7d568-ab9c-4f48-9b96-41db82123ccd",
   "metadata": {},
   "outputs": [],
   "source": [
    "X_train,X_test,y_train,y_test = train_test_split(X,y,test_size=0.25,shuffle=False)"
   ]
  },
  {
   "cell_type": "code",
   "execution_count": null,
   "id": "c5e6bef8-b1be-4989-9917-b60d3894aa40",
   "metadata": {},
   "outputs": [],
   "source": [
    "device = 'cuda'"
   ]
  },
  {
   "cell_type": "code",
   "execution_count": null,
   "id": "656c998a-35a7-4abe-b212-a9c45dffb713",
   "metadata": {},
   "outputs": [],
   "source": [
    "X_train = torch.from_numpy(np.array(X_train)).to(device).float()\n",
    "y_train = torch.from_numpy(np.array(y_train)).to(device).to(device).float()\n",
    "X_test = torch.from_numpy(np.array(X_test)).to(device).to(device).float()\n",
    "y_test = torch.from_numpy(np.array(y_test)).to(device).to(device).float()"
   ]
  },
  {
   "cell_type": "code",
   "execution_count": null,
   "id": "04eb5cf0-1134-47a5-a7ba-6606d1acee58",
   "metadata": {},
   "outputs": [],
   "source": [
    "def get_loss(model,X,y,criterion):\n",
    "    preds = model(X)\n",
    "    loss = criterion(preds.view(-1,1),y.view(-1,1))\n",
    "    return loss.item()"
   ]
  },
  {
   "cell_type": "code",
   "execution_count": null,
   "id": "0b7024e5-dfa2-41a5-b875-e3d13c441a8d",
   "metadata": {},
   "outputs": [],
   "source": [
    "def get_accuracy(model,X,y):\n",
    "    correct = 0\n",
    "    total = 0\n",
    "    preds = model(X)\n",
    "    for pred,y_batch in zip(preds,y):\n",
    "        pred = int(torch.round(pred))\n",
    "        y_batch = int(torch.round(y_batch))\n",
    "        if pred == y_batch:\n",
    "            correct += 1\n",
    "        total += 1\n",
    "    acc = round(correct/total,3)*100\n",
    "    return acc"
   ]
  },
  {
   "cell_type": "code",
   "execution_count": null,
   "id": "79185d2b-79bf-4a28-aedc-540596ac7055",
   "metadata": {},
   "outputs": [],
   "source": [
    "class Model(Module):\n",
    "    def __init__(self):\n",
    "        super().__init__()\n",
    "        self.activation = ReLU()\n",
    "        self.hidden = 256\n",
    "        self.iters = 10\n",
    "        self.linear1 = Linear1(len(all_words),self.hiddendden)\n",
    "        self.linear2 = Linear1(self.hidden,self.hidden)\n",
    "        self.batchnorm = BatchNorm1d(self.hidden)\n",
    "        self.output = Linear(self.hidden,1)\n",
    "        self.output_ac = Sigmoid()\n",
    "    def forward(self,X):\n",
    "        preds = self.linear1(X)\n",
    "        for _ in range(self.iters):\n",
    "            preds = self.batchnorm(self.linear2(preds))\n",
    "        preds = self.output_ac(self.output(preds))\n",
    "        return preds"
   ]
  },
  {
   "cell_type": "code",
   "execution_count": null,
   "id": "e55dcecd-d297-48bf-a1fa-9309053c17db",
   "metadata": {},
   "outputs": [],
   "source": [
    "model = Model().to(device)"
   ]
  },
  {
   "cell_type": "code",
   "execution_count": null,
   "id": "ab312e4c-536b-4eab-99f5-db3909bf3fef",
   "metadata": {},
   "outputs": [],
   "source": [
    "criterion = MSELoss()"
   ]
  },
  {
   "cell_type": "code",
   "execution_count": null,
   "id": "32fcef9e-3f88-4397-a9fc-8362f438a112",
   "metadata": {},
   "outputs": [],
   "source": [
    "optimizer = Adam(model.parameters(),lr=0.001)"
   ]
  },
  {
   "cell_type": "code",
   "execution_count": null,
   "id": "12e6f38b-fcc7-4a36-9d92-b4456fa05e01",
   "metadata": {},
   "outputs": [],
   "source": [
    "import wandb"
   ]
  },
  {
   "cell_type": "code",
   "execution_count": null,
   "id": "09ad37c0-be31-4125-8f52-835b8326bbb0",
   "metadata": {},
   "outputs": [],
   "source": [
    "PROJECT_NAME = 'kickstarter-NLP'"
   ]
  },
  {
   "cell_type": "code",
   "execution_count": null,
   "id": "e581534c-fb69-4562-b0fe-eabd6a5d2688",
   "metadata": {},
   "outputs": [],
   "source": [
    "epochs = 1000"
   ]
  },
  {
   "cell_type": "code",
   "execution_count": null,
   "id": "3d2f7e95-4ef9-4992-8b80-9a3aabfb6ec0",
   "metadata": {},
   "outputs": [],
   "source": [
    "batch_size = 32"
   ]
  },
  {
   "cell_type": "code",
   "execution_count": null,
   "id": "0dc37eb7-fe5a-47ae-acad-79f339b6fb1a",
   "metadata": {},
   "outputs": [],
   "source": [
    "wandb.init(project=PROJECT_NAME,name='baseline')\n",
    "wandb.watch(model)\n",
    "for _ in tqdm(range(epochs)):\n",
    "    torch.cuda.empty_cache()\n",
    "    for idx in range(0,len(X_train),batch_size):\n",
    "        torch.cuda.empty_cache()\n",
    "        X_batch = X_train[idx:idx+batch_size].to(device)\n",
    "        y_batch = y_train[idx:idx+batch_size].to(device)\n",
    "        preds = model(X_batch)\n",
    "        loss = criterion(preds,y_batch)\n",
    "        optimizer.zero_grad()\n",
    "        loss.backward()\n",
    "        optimizer.step()\n",
    "    wandb.log({'Loss':get_loss(model,X_train,y_train,criterion)})\n",
    "    wandb.log({'Val Loss':get_loss(model,X_test,y_test,criterion)})\n",
    "    wandb.log({'Acc':get_accuracy(model,X_train,y_train)})\n",
    "    wandb.log({'Val Acc':get_accuracy(model,X_test,y_test)})\n",
    "wandb.watch(model)\n",
    "wandb.finish()"
   ]
  },
  {
   "cell_type": "code",
   "execution_count": null,
   "id": "8499c42d-d024-4b4e-abd7-2f1341fc4fcb",
   "metadata": {},
   "outputs": [],
   "source": []
  }
 ],
 "metadata": {
  "kernelspec": {
   "display_name": "Python 3.7.3 64-bit ('base': conda)",
   "language": "python",
   "name": "python373jvsc74a57bd0210f9608a45c0278a93c9e0b10db32a427986ab48cfc0d20c139811eb78c4bbc"
  },
  "language_info": {
   "codemirror_mode": {
    "name": "ipython",
    "version": 3
   },
   "file_extension": ".py",
   "mimetype": "text/x-python",
   "name": "python",
   "nbconvert_exporter": "python",
   "pygments_lexer": "ipython3",
   "version": "3.7.11"
  }
 },
 "nbformat": 4,
 "nbformat_minor": 5
}
